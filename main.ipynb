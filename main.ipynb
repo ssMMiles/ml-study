{
 "cells": [
  {
   "cell_type": "code",
   "execution_count": 1,
   "metadata": {},
   "outputs": [
    {
     "name": "stdout",
     "output_type": "stream",
     "text": [
      "Model:\n"
     ]
    },
    {
     "data": {
      "application/vnd.jupyter.widget-view+json": {
       "model_id": "74c92d8509ae4529ba5da5f64745542e",
       "version_major": 2,
       "version_minor": 0
      },
      "text/plain": [
       "Output()"
      ]
     },
     "metadata": {},
     "output_type": "display_data"
    },
    {
     "name": "stdout",
     "output_type": "stream",
     "text": [
      "Training...\n"
     ]
    },
    {
     "data": {
      "application/vnd.jupyter.widget-view+json": {
       "model_id": "3ebe306b04e347a4a0b77989711d788f",
       "version_major": 2,
       "version_minor": 0
      },
      "text/plain": [
       "Output()"
      ]
     },
     "metadata": {},
     "output_type": "display_data"
    },
    {
     "name": "stdout",
     "output_type": "stream",
     "text": [
      "Verifying against test data...\n"
     ]
    },
    {
     "name": "stdout",
     "output_type": "stream",
     "text": [
      "Achieved 77.900000% accuracy against the test set. Iterations: 250 Alpha: 0.010000 Cross Entropy: 1.218150 (No batch size)\n"
     ]
    },
    {
     "ename": "TypeError",
     "evalue": "save() takes 1 positional argument but 2 were given",
     "output_type": "error",
     "traceback": [
      "\u001b[0;31m---------------------------------------------------------------------------\u001b[0m",
      "\u001b[0;31mTypeError\u001b[0m                                 Traceback (most recent call last)",
      "Cell \u001b[0;32mIn[1], line 47\u001b[0m\n\u001b[1;32m     40\u001b[0m predictions \u001b[39m=\u001b[39m get_predictions(A)\n\u001b[1;32m     42\u001b[0m \u001b[39mprint\u001b[39m(\u001b[39m\"\u001b[39m\u001b[39mAchieved \u001b[39m\u001b[39m%f\u001b[39;00m\u001b[39m%%\u001b[39;00m\u001b[39m accuracy against the test set. Iterations: \u001b[39m\u001b[39m%d\u001b[39;00m\u001b[39m Alpha: \u001b[39m\u001b[39m%f\u001b[39;00m\u001b[39m Cross Entropy: \u001b[39m\u001b[39m%f\u001b[39;00m\u001b[39m\"\u001b[39m \u001b[39m%\u001b[39m\n\u001b[1;32m     43\u001b[0m       ((get_accuracy(predictions, Y_test) \u001b[39m*\u001b[39m \u001b[39m100\u001b[39m),\n\u001b[1;32m     44\u001b[0m        iterations, alpha, CrossEntropy(A, Y_test))\n\u001b[1;32m     45\u001b[0m       \u001b[39m+\u001b[39m ((\u001b[39m\"\u001b[39m\u001b[39m Batch Size: \u001b[39m\u001b[39m%d\u001b[39;00m\u001b[39m\"\u001b[39m \u001b[39m%\u001b[39m batch_size) \u001b[39mif\u001b[39;00m batch_size \u001b[39m!=\u001b[39m \u001b[39mNone\u001b[39;00m \u001b[39melse\u001b[39;00m \u001b[39m\"\u001b[39m\u001b[39m (No batch size)\u001b[39m\u001b[39m\"\u001b[39m))\n\u001b[0;32m---> 47\u001b[0m model\u001b[39m.\u001b[39;49msave(\u001b[39m\"\u001b[39;49m\u001b[39mmnist.model\u001b[39;49m\u001b[39m\"\u001b[39;49m)\n\u001b[1;32m     49\u001b[0m \u001b[39mprint\u001b[39m(\u001b[39m\"\u001b[39m\u001b[39mFinished training and saved the output model to mnist.model\u001b[39m\u001b[39m\"\u001b[39m)\n",
      "\u001b[0;31mTypeError\u001b[0m: save() takes 1 positional argument but 2 were given"
     ]
    }
   ],
   "source": [
    "from lib.activations import ReLU, ReLU_Derivative, Softmax\n",
    "from lib.cost import CrossEntropy, CrossEntropy_Derivative\n",
    "from lib.layers import InputLayer, DenseLayer\n",
    "from lib.networks.sequential import SequentialModel\n",
    "from lib.util import get_predictions, get_accuracy\n",
    "\n",
    "import numpy as np\n",
    "import pandas as pd\n",
    "from matplotlib import pyplot as plt\n",
    "\n",
    "test_data = pd.read_csv('../datasets/mnist/test.csv')\n",
    "train_data = pd.read_csv('../datasets/mnist/train.csv')\n",
    "\n",
    "Y_test = test_data['label'].values\n",
    "X_test = test_data.drop('label', axis=1).values.T / 255.\n",
    "\n",
    "Y_train = train_data['label'].values\n",
    "X_train = train_data.drop('label', axis=1).values.T / 255.\n",
    "\n",
    "alpha = 0.01\n",
    "iterations = 250\n",
    "batch_size = None\n",
    "\n",
    "schema = [\n",
    "    InputLayer(\"input\"),\n",
    "    DenseLayer(\"hidden\", 784, 100, None, ReLU, ReLU_Derivative),\n",
    "    DenseLayer(\"output\", 10, 100, None, Softmax, None, CrossEntropy_Derivative)\n",
    "]\n",
    "\n",
    "model = SequentialModel(schema)\n",
    "\n",
    "print(\"Model:\")\n",
    "model.display()\n",
    "\n",
    "print(\"Training...\")\n",
    "model.run_gradient_descent(X_train, Y_train, alpha, iterations, batch_size)\n",
    "\n",
    "print(\"Verifying against test data...\")\n",
    "A = model.forward_prop(X_test)\n",
    "predictions = get_predictions(A)\n",
    "\n",
    "print(\"Achieved %f%% accuracy against the test set. Iterations: %d Alpha: %f Cross Entropy: %f\" %\n",
    "      ((get_accuracy(predictions, Y_test) * 100),\n",
    "       iterations, alpha, CrossEntropy(A, Y_test))\n",
    "      + ((\" Batch Size: %d\" % batch_size) if batch_size != None else \" (No batch size)\"))\n",
    "\n",
    "model.save(\"mnist.model\")\n",
    "\n",
    "print(\"Finished training and saved the output model to mnist.model\")\n"
   ]
  }
 ],
 "metadata": {
  "kernelspec": {
   "display_name": "Python 3",
   "language": "python",
   "name": "python3"
  },
  "language_info": {
   "codemirror_mode": {
    "name": "ipython",
    "version": 3
   },
   "file_extension": ".py",
   "mimetype": "text/x-python",
   "name": "python",
   "nbconvert_exporter": "python",
   "pygments_lexer": "ipython3",
   "version": "3.9.16"
  },
  "orig_nbformat": 4
 },
 "nbformat": 4,
 "nbformat_minor": 2
}
